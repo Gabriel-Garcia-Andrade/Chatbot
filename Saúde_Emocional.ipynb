{
  "nbformat": 4,
  "nbformat_minor": 0,
  "metadata": {
    "colab": {
      "provenance": []
    },
    "kernelspec": {
      "name": "python3",
      "display_name": "Python 3"
    },
    "language_info": {
      "name": "python"
    }
  },
  "cells": [
    {
      "cell_type": "code",
      "execution_count": 112,
      "metadata": {
        "id": "_H3z2w6Lw5si"
      },
      "outputs": [],
      "source": [
        "%pip -q install google-genai"
      ]
    },
    {
      "cell_type": "code",
      "source": [
        "# Configura a API Key do Google Gemini\n",
        "\n",
        "import os\n",
        "from google.colab import userdata\n",
        "\n",
        "os.environ[\"GOOGLE_API_KEY\"] = userdata.get('GOOGLE_API_KEY')\n",
        "try:\n",
        "  columns = os.get_terminal_size().columns\n",
        "except:\n",
        "  columns = 150"
      ],
      "metadata": {
        "id": "SbxUbe1Bw8F8"
      },
      "execution_count": 113,
      "outputs": []
    },
    {
      "cell_type": "code",
      "source": [
        "\n",
        "from google import genai\n",
        "\n",
        "client = genai.Client()\n",
        "\n",
        "MODEL_ID = \"gemini-2.0-flash\"\n",
        "response = client.models.generate_content(\n",
        "    model=MODEL_ID,\n",
        "    contents='',\n",
        "    config={\"tools\": [{\"google_search\": {}}]}\n",
        "    # Inserir a tool de busca do Google ###############################################\n",
        "\n",
        ")"
      ],
      "metadata": {
        "id": "lJ2dCaIu6tFe"
      },
      "execution_count": 131,
      "outputs": []
    },
    {
      "cell_type": "code",
      "source": [
        "# Instalar Framework ADK de agentes do Google\n",
        "!pip install -q google-adk"
      ],
      "metadata": {
        "id": "YnDq9sjHyoxU"
      },
      "execution_count": 114,
      "outputs": []
    },
    {
      "cell_type": "code",
      "source": [
        "from google.adk.agents import Agent\n",
        "from google.adk.runners import Runner\n",
        "from google.adk.sessions import InMemorySessionService\n",
        "from google.adk.tools import google_search\n",
        "from google.genai import types  # Para criar conteúdos (Content e Part)\n",
        "from datetime import date\n",
        "import textwrap # Para formatar melhor a saída de texto\n",
        "from IPython.display import display, Markdown # Para exibir texto formatado no Colab\n",
        "import requests # Para fazer requisições HTTP\n",
        "import warnings\n",
        "\n",
        "warnings.filterwarnings(\"ignore\")"
      ],
      "metadata": {
        "id": "GNuyINoqyqna"
      },
      "execution_count": 115,
      "outputs": []
    },
    {
      "cell_type": "code",
      "source": [
        "# Função auxiliar que envia uma mensagem para um agente via Runner e retorna a resposta final\n",
        "def call_agent(agent: Agent, message_text: str) -> str:\n",
        "    # Cria um serviço de sessão em memória\n",
        "    session_service = InMemorySessionService()\n",
        "    # Cria uma nova sessão (você pode personalizar os IDs conforme necessário)\n",
        "    session = session_service.create_session(app_name=agent.name, user_id=\"user1\", session_id=\"session1\")\n",
        "    # Cria um Runner para o agente\n",
        "    runner = Runner(agent=agent, app_name=agent.name, session_service=session_service)\n",
        "    # Cria o conteúdo da mensagem de entrada\n",
        "    content = types.Content(role=\"user\", parts=[types.Part(text=message_text)])\n",
        "\n",
        "    final_response = \"\"\n",
        "    # Itera assincronamente pelos eventos retornados durante a execução do agente\n",
        "    for event in runner.run(user_id=\"user1\", session_id=\"session1\", new_message=content):\n",
        "        if event.is_final_response():\n",
        "          for part in event.content.parts:\n",
        "            if part.text is not None:\n",
        "              final_response += part.text\n",
        "              final_response += \"\\n\"\n",
        "    return final_response"
      ],
      "metadata": {
        "id": "TKNPaQ9QyurC"
      },
      "execution_count": 116,
      "outputs": []
    },
    {
      "cell_type": "code",
      "source": [
        "# Função auxiliar para exibir texto formatado em Markdown no Colab\n",
        "def to_markdown(text):\n",
        "  text = text.replace('•', '  *')\n",
        "  return Markdown(textwrap.indent(text, '> ', predicate=lambda _: True))"
      ],
      "metadata": {
        "id": "DPAOOkm6y23c"
      },
      "execution_count": 117,
      "outputs": []
    },
    {
      "cell_type": "code",
      "source": [
        "# --- Agente 1: Analista Emocional --- #\n",
        "def agente_analista(relato_usuario):\n",
        "\n",
        "  analista = Agent(\n",
        "    name=\"agente_analista\",\n",
        "    model=\"gemini-2.0-flash\",\n",
        "    instruction=\"\"\"\n",
        "    Você é um analista emocional especializado em compreender profundamente os estados afetivos humanos a partir de relatos textuais.\n",
        "    Sua tarefa é interpretar o relato do usuário, identificar as emoções presentes, sua intensidade, possíveis causas e sinais de alerta.\n",
        "    Primeiramente liste sentimentos como tristeza, angústia, medo, raiva, solidão, etc. Segundamente classifique como leve, moderada ou intensa.\n",
        "    Terceiramente analise o contexto fornecido para entender o que pode estar provocando o estado emocional.\n",
        "    Após isso, observe os sinais de alertas se a Indícios de desesperança extrema, falas sobre suicídio, automutilação,\n",
        "    abandono total de atividades, etc. E por último  Elabore um pequeno parágrafo explicando o que a pessoa está sentindo,\n",
        "    para orientar os próximos agentes.\n",
        "    \"\"\",\n",
        "    description=\"Agente que analisa relatos emocionais\",\n",
        "  )\n",
        "  entrada_do_agente = f\"Relato do usuário: {relato_usuario}\"\n",
        "  analise = call_agent(analista, entrada_do_agente)\n",
        "  return analise"
      ],
      "metadata": {
        "id": "bqACrUNey5a7"
      },
      "execution_count": 118,
      "outputs": []
    },
    {
      "cell_type": "code",
      "source": [
        "# --- Agente 2: Orientador Especialista --- #\n",
        "def agente_orientador(analise_emocional):\n",
        "  orientador = Agent(\n",
        "    name=\"agente_orientador\",\n",
        "    model=\"gemini-2.0-flash\",\n",
        "    instruction=f\"\"\"\n",
        "      Você é um especialista em estratégias de saúde mental baseadas em evidências. Sua tarefa:\n",
        "      1. ANALISAR o estado emocional identificado:\n",
        "          - \"{analise_emocional}\"\n",
        "      2. GERAR um plano com:\n",
        "          - 3 técnicas imediatas (ex.: respiração 4-7-8 para ansiedade)\n",
        "          - 2 estratégias de médio prazo (ex.: journaling para autoconhecimento)\n",
        "          - 1 ação preventiva (ex.: pausas a cada 90 minutos de trabalho)\n",
        "      3. CRITÉRIOS:\n",
        "          - Baseie-se em TCC, ACT ou DBT quando aplicável\n",
        "          - Adapte ao contexto do usuário (ex.: se histórico mostrar resistência a meditação, sugira alternativas)\n",
        "          - Evite jargões técnicos\n",
        "      Formato de saída:\n",
        "      **Técnicas Imediatas:**\n",
        "      1. [Nome da técnica]: [Passo a passo curto] (Duração: X min)\n",
        "      2. ...\n",
        "\n",
        "      **Estratégias Contínuas:**\n",
        "      - [Sugestão personalizada]\n",
        "      \"\"\",\n",
        "    description=\"Transforma análises emocionais em planos de ação práticos e baseados em evidências.\",\n",
        "  )\n",
        "  orientacoes = call_agent(orientador, analise_emocional)\n",
        "  return orientacoes"
      ],
      "metadata": {
        "id": "OE8_3QTP0qY0"
      },
      "execution_count": 119,
      "outputs": []
    },
    {
      "cell_type": "code",
      "source": [
        "# --- Agente 3: Resposta Empática --- #\n",
        "def agente_resposta(analise, orientacoes):\n",
        "  redator = Agent(\n",
        "    name=\"agente_resposta\",\n",
        "    model=\"gemini-2.0-flash\",\n",
        "    instruction=f\"\"\"\n",
        "      Você é um comunicador especializado em saúde mental. Sua missão:\n",
        "      1. Contextualizar:\n",
        "        - Estado emocional: \"{analise}\"\n",
        "        - Orientações técnicas: \"{orientacoes}\"\n",
        "\n",
        "      2. Criar uma resposta que:\n",
        "        - Valide a experiência emocional sem julgamentos\n",
        "        - Explique as técnicas sugeridas com analogias cotidianas\n",
        "        - Use tom de conversa (evite \"você deve\")\n",
        "        - Inclua 1 metáfora ou exemplo concreto\n",
        "\n",
        "      3. Formato:\n",
        "        - 1 parágrafo de validação\n",
        "        - 1 parágrafo com técnica principal (passo a passo simplificado)\n",
        "        - Frase de encorajamento final\n",
        "\n",
        "      Regras:\n",
        "      - Nível de formalidade: amigo especialista\n",
        "      - Evite clichês como \"força\" ou \"isso vai passar\"\n",
        "      \"\"\",\n",
        "    description=\"Transforma orientações técnicas em diálogos acolhedores e personalizados.\"\n",
        "  )\n",
        "  entrada = f\"Análise emocional: {analise} Orientações: {orientacoes}\"\n",
        "  resposta = call_agent(redator, entrada)\n",
        "  return resposta"
      ],
      "metadata": {
        "id": "N5mBHT3V3fCM"
      },
      "execution_count": 120,
      "outputs": []
    },
    {
      "cell_type": "code",
      "source": [
        "# --- Agente 4: Validador de Resposta --- #\n",
        "def agente_validador(resposta_gerada):\n",
        "  validador = Agent(\n",
        "    name=\"agente_validador\",\n",
        "    model=\"gemini-2.0-flash\",\n",
        "    instruction=f\"\"\"\n",
        "    Você é um especialista em validação de respostas terapêuticas com foco em:\n",
        "\n",
        "    **Critérios de Avaliação:**\n",
        "    1. **Precisão Clínica**:\n",
        "        - Verificar se a resposta evita diagnósticos médicos não autorizados\n",
        "        - Confirmar se menciona a necessidade de avaliação profissional quando necessário\n",
        "    2. **Empatia Efetiva**:\n",
        "        - Analisar se o tom é acolhedor sem ser paternalista\n",
        "        - Garantir que valida os sentimentos sem minimizá-los\n",
        "    3. **Estrutura de Resposta**:\n",
        "        - Checar se oferece: validação + informação + ação concreta\n",
        "        - Verificar se evita jargões técnicos excessivos\n",
        "    4. **Gatilhos Potenciais**:\n",
        "        - Sinalizar qualquer linguagem que possa ser interpretada como julgamento\n",
        "        - Identificar termos absolutos (\"nunca\", \"sempre\") que possam gerar culpa\n",
        "\n",
        "    **Formato de Feedback:**\n",
        "    - Para respostas adequadas: \"✔ Resposta validada - Atende todos os critérios terapêuticos\"\n",
        "    - Para melhorias: Listar itens específicos com sugestões concretas\n",
        "\n",
        "    **Exemplo de Boa Prática:**\n",
        "    \"Vejo que você está passando por um momento difícil [validação].\n",
        "    A dor no peito pode ser um sintoma de ansiedade [informação],\n",
        "    mas recomendo consultar um médico para descartar outras causas [ação].\"\n",
        "    \"\"\",\n",
        "    description=\"\"\"Agente que valida respostas emocionais segundo protocolos de\n",
        "    comunicação terapêutica, garantindo segurança, empatia e utilidade prática.\"\"\"\n",
        "  )\n",
        "  validacao = call_agent(validador, resposta_gerada)\n",
        "  return validacao"
      ],
      "metadata": {
        "id": "eUcaWCEJ5RmH"
      },
      "execution_count": 124,
      "outputs": []
    },
    {
      "cell_type": "code",
      "source": [
        "# --- Agente 5: Buscador de Recursos Externos --- #\n",
        "def agente_recursos(analise_emocional):\n",
        "  buscador = Agent(\n",
        "    name=\"agente_recursos\",\n",
        "    model=\"gemini-2.0-flash\",\n",
        "    instruction=f\"\"\"\n",
        "      Busque recursos para: {analise}\n",
        "    - TIPOS: vídeos, artigos, podcasts. Utileze a busca do Google.\n",
        "    - FORMATO DE SAÍDA:\n",
        "      obeservação: em hipótese alguma esqueça de fornecer o link\n",
        "      \"TÍTULO (TIPO, DURAÇÃO): DESCRIÇÃO [FONTE] → LINK\"\n",
        "    - EXEMPLO:\n",
        "      \"Respiração 4-7-8 (Vídeo, 5min): Técnica para ansiedade [Canal Bem Estar] → youtu.be/exemplo\"\n",
        "    - LIMITAÇÕES:\n",
        "      Traga no máximo 6 resultados.\n",
        "    \"\"\",\n",
        "    tools=[google_search],\n",
        "    description=\"Seleciona conteúdos confiáveis para apoio emocional\"\n",
        "  )\n",
        "  entrada_do_agente = f\"\"\"\n",
        "  Necessidade: Recursos para lidar com {analise_emocional}\n",
        "  Critérios:\n",
        "  - Fontes confiáveis (gov.br, who.int, canais especializados)\n",
        "  - Conteúdo prático e objetivo\n",
        "  - Evitar autoajuda genérica\n",
        "  \"\"\"\n",
        "  recursos = call_agent(buscador, entrada_do_agente)\n",
        "  return recursos"
      ],
      "metadata": {
        "id": "aNcIidcqA5SE"
      },
      "execution_count": 132,
      "outputs": []
    },
    {
      "cell_type": "code",
      "source": [
        "print(\"🧠💙 Bem-vindo ao FeelWell - Seu Sistema de Apoio Emocional 💙🧠\")\n",
        "\n",
        "relato = str(input(\"✍️ Por favor, compartilhe como você está se sentindo (pode ser breve ou detalhado): \"))\n",
        "if not relato:\n",
        "  display(to_markdown(\"Por favor, compartilhe como você está se sentindo para podermos ajudar.\"))\n",
        "else:\n",
        "  display(to_markdown(f\"Obrigado por compartilhar. Vamos analisar e te ajudar...\"))\n",
        "  print('-' * columns)\n",
        "\n",
        "  analise = agente_analista(relato)\n",
        "  display(to_markdown(analise))\n",
        "  orientacoes = agente_orientador(analise)\n",
        "\n",
        "  print('-' * columns)\n",
        "  display(to_markdown(orientacoes))\n",
        "  resposta = agente_resposta(analise, orientacoes)\n",
        "\n",
        "  print('-' * columns)\n",
        "  display(to_markdown(resposta))\n",
        "  validacao = agente_validador(resposta)\n",
        "\n",
        "  print('-' * columns)\n",
        "  display(to_markdown('-- Validação da Resposta --'))\n",
        "  display(to_markdown(validacao))\n",
        "\n",
        "  print('-' * columns)\n",
        "  recursos = agente_recursos(analise)\n",
        "  display(to_markdown(recursos))"
      ],
      "metadata": {
        "colab": {
          "base_uri": "https://localhost:8080/",
          "height": 1000
        },
        "id": "m_q-AU1f6yHQ",
        "outputId": "5eb9e46f-417e-4fc2-b626-6f65781e3785"
      },
      "execution_count": 134,
      "outputs": [
        {
          "name": "stdout",
          "output_type": "stream",
          "text": [
            "🧠💙 Bem-vindo ao FeelWell - Seu Sistema de Apoio Emocional 💙🧠\n",
            "✍️ Por favor, compartilhe como você está se sentindo (pode ser breve ou detalhado): Tenho uma prova importante amanhã e estou sentindo muita ansiedade e estou muito nervos, por conta disso não estou conseguindo estudar adequadamente \n"
          ]
        },
        {
          "output_type": "display_data",
          "data": {
            "text/plain": [
              "<IPython.core.display.Markdown object>"
            ],
            "text/markdown": "> Obrigado por compartilhar. Vamos analisar e te ajudar..."
          },
          "metadata": {}
        },
        {
          "output_type": "stream",
          "name": "stdout",
          "text": [
            "------------------------------------------------------------------------------------------------------------------------------------------------------\n"
          ]
        },
        {
          "output_type": "display_data",
          "data": {
            "text/plain": [
              "<IPython.core.display.Markdown object>"
            ],
            "text/markdown": "> **Sentimentos:**\n> \n> *   Ansiedade: Intensa\n> *   Nervosismo: Moderado\n> \n> **Causas:**\n> \n> *   Proximidade de uma prova importante.\n> *   Dificuldade em estudar devido à ansiedade.\n> \n> **Sinais de Alerta:**\n> \n> *   Nenhum sinal de alerta imediato foi detectado no relato.\n> \n> **Análise:**\n> \n> O usuário está passando por um momento de alta ansiedade e nervosismo devido à proximidade de uma prova importante. A ansiedade está afetando sua capacidade de estudar, o que pode agravar ainda mais o quadro. É importante ajudá-lo a encontrar estratégias para lidar com a ansiedade e melhorar o foco nos estudos.\n"
          },
          "metadata": {}
        },
        {
          "output_type": "stream",
          "name": "stdout",
          "text": [
            "------------------------------------------------------------------------------------------------------------------------------------------------------\n"
          ]
        },
        {
          "output_type": "display_data",
          "data": {
            "text/plain": [
              "<IPython.core.display.Markdown object>"
            ],
            "text/markdown": "> Compreendo a situação. A ansiedade pré-prova é comum, mas podemos criar um plano para te ajudar a lidar com ela e focar nos estudos.\n> \n> **Técnicas Imediatas:**\n> \n> 1.  **Respiração Diafragmática:** Sente-se confortavelmente e coloque uma mão no peito e outra na barriga. Inspire lentamente pelo nariz, sentindo a barriga se expandir (e não o peito). Expire lentamente pela boca, esvaziando completamente o ar dos pulmões. Repita por 5 minutos, focando na sensação da respiração. (Duração: 5 min)\n> 2.  **Técnica de Relaxamento Muscular Progressivo:** Comece tensionando os músculos dos pés por 5 segundos e, em seguida, relaxe-os completamente por 15 segundos. Suba gradualmente, tensionando e relaxando diferentes grupos musculares (pernas, abdômen, braços, ombros, rosto). Isso ajuda a liberar a tensão física associada à ansiedade. (Duração: 10-15 min)\n> 3.  **Afirmações Positivas:** Crie algumas frases curtas e positivas sobre sua capacidade de lidar com a prova e seu conhecimento (ex: \"Eu sou capaz de lidar com essa prova\", \"Eu me preparei e confio no meu conhecimento\"). Repita-as para si mesmo em momentos de pico de ansiedade. Isso ajuda a combater pensamentos negativos. (Duração: 2 min)\n> \n> **Estratégias Contínuas:**\n> \n> *   **Reestruturação Cognitiva:** Identifique os pensamentos negativos que estão alimentando sua ansiedade (ex: \"Eu vou fracassar nessa prova\"). Questione esses pensamentos, buscando evidências que os contradigam (ex: \"Eu tenho me dedicado aos estudos\", \"Já fui bem em outras provas\"). Substitua os pensamentos negativos por pensamentos mais realistas e positivos.\n> *   **Planejamento de Estudos Flexível:** Divida o conteúdo da prova em pequenas partes e crie um cronograma de estudos realista, com metas alcançáveis para cada dia. Inclua pausas regulares e momentos de lazer para evitar a sobrecarga. Permita-se ajustar o cronograma se necessário, sem se sentir culpado.\n> \n> **Ação Preventiva:**\n> \n> *   **Rotina de Sono Consistente:** Tente dormir de 7 a 8 horas por noite, indo para a cama e acordando no mesmo horário todos os dias. A privação de sono pode aumentar a ansiedade e prejudicar o desempenho cognitivo. Evite cafeína e telas antes de dormir.\n> \n"
          },
          "metadata": {}
        },
        {
          "output_type": "stream",
          "name": "stdout",
          "text": [
            "------------------------------------------------------------------------------------------------------------------------------------------------------\n"
          ]
        },
        {
          "output_type": "display_data",
          "data": {
            "text/plain": [
              "<IPython.core.display.Markdown object>"
            ],
            "text/markdown": "> Percebo o quanto essa prova está mexendo com você e como a ansiedade tem te atrapalhado na hora de estudar. É como se sua mente estivesse correndo uma maratona antes mesmo da largada, né? Mas vamos tentar desacelerar um pouco esse ritmo!\n> \n> Que tal experimentar a respiração diafragmática? É bem simples: imagine que você tem um balão na barriga. Quando inspirar pelo nariz, deixe o ar encher esse balão, sentindo sua barriga expandir. Depois, solte o ar lentamente pela boca, esvaziando o balão por completo. Repita isso algumas vezes, focando na sensação do ar entrando e saindo. É como dar um \"reset\" no seu corpo, acalmando a mente e te trazendo de volta para o presente.\n> \n> Lembre-se, você tem se dedicado e é capaz de superar esse desafio.\n"
          },
          "metadata": {}
        },
        {
          "output_type": "stream",
          "name": "stdout",
          "text": [
            "------------------------------------------------------------------------------------------------------------------------------------------------------\n"
          ]
        },
        {
          "output_type": "display_data",
          "data": {
            "text/plain": [
              "<IPython.core.display.Markdown object>"
            ],
            "text/markdown": "> -- Validação da Resposta --"
          },
          "metadata": {}
        },
        {
          "output_type": "display_data",
          "data": {
            "text/plain": [
              "<IPython.core.display.Markdown object>"
            ],
            "text/markdown": "> ✔ Resposta validada - Atende todos os critérios terapêuticos\n> \n"
          },
          "metadata": {}
        },
        {
          "output_type": "stream",
          "name": "stdout",
          "text": [
            "------------------------------------------------------------------------------------------------------------------------------------------------------\n"
          ]
        },
        {
          "output_type": "display_data",
          "data": {
            "text/plain": [
              "<IPython.core.display.Markdown object>"
            ],
            "text/markdown": "> Para te ajudar a lidar com a ansiedade e o nervosismo antes da prova, preparei alguns recursos práticos e confiáveis:\n> \n> \n> Com base na sua necessidade, aqui estão alguns recursos que podem te ajudar a lidar com a ansiedade e o nervosismo antes da prova:\n> \n> *   **Técnicas de Respiração:**\n> \n>     *   **Respiração Diafragmática (Artigo):** A CNN Brasil explica como a respiração diafragmática (ou respiração profunda) pode ajudar a controlar a ansiedade. [CNN Brasil] → [https://vertexaisearch.cloud.google.com/grounding-api-redirect/AbF9wXH8DgBVKWgetlHnUKaxgz018ByAvOcr6bUwPZS3Yj3588RJcDcVBvDgA3hl1UyNfZ86JXgvITQOU7h7vCwG7WqKYm3wlju-RlU207JeNDhrMQq8lu0DEWibcEtAajsmxwsYLuhTNLUrQozc38swCvbuzU4FPFKIvk9F-6o4T0TBN_XFotRxZ3YBli2p-icFt83DiVnGPY1REEiE8c_4m-LN4ZpPfjAm6b2Y4A==](https://vertexaisearch.cloud.google.com/grounding-api-redirect/AbF9wXH8DgBVKWgetlHnUKaxgz018ByAvOcr6bUwPZS3Yj3588RJcDcVBvDgA3hl1UyNfZ86JXgvITQOU7h7vCwG7WqKYm3wlju-RlU207JeNDhrMQq8lu0DEWibcEtAajsmxwsYLuhTNLUrQozc38swCvbuzU4FPFKIvk9F-6o4T0TBN_XFotRxZ3YBli2p-icFt83DiVnGPY1REEiE8c_4m-LN4ZpPfjAm6b2Y4A==)\n>     *   **Respiração 4-7-8 (Artigo):** A CNN Brasil também descreve a técnica de respiração 4-7-8, um exercício de relaxamento que envolve inspirar por quatro contagens, prender a respiração por sete contagens e expirar por oito contagens. [CNN Brasil] → [https://vertexaisearch.cloud.google.com/grounding-api-redirect/AbF9wXH8DgBVKWgetlHnUKaxgz018ByAvOcr6bUwPZS3Yj3588RJcDcVBvDgA3hl1UyNfZ86JXgvITQOU7h7vCwG7WqKYm3wlju-RlU207JeNDhrMQq8lu0DEWibcEtAajsmxwsYLuhTNLUrQozc38swCvbuzU4FPFKIvk9F-6o4T0TBN_XFotRxZ3YBli2p-icFt83DiVnGPY1REEiE8c_4m-LN4ZpPfjAm6b2Y4A==](https://vertexaisearch.cloud.google.com/grounding-api-redirect/AbF9wXH8DgBVKWgetlHnUKaxgz018ByAvOcr6bUwPZS3Yj3588RJcDcVBvDgA3hl1UyNfZ86JXgvITQOU7h7vCwG7WqKYm3wlju-RlU207JeNDhrMQq8lu0DEWibcEtAajsmxwsYLuhTNLUrQozc38swCvbuzU4FPFKIvk9F-6o4T0TBN_XFotRxZ3YBli2p-icFt83DiVnGPY1REEiE8c_4m-LN4ZpPfjAm6b2Y4A==)\n> \n> *   **Mindfulness e Meditação:**\n> \n>     *   **Práticas de Mindfulness para Acadêmicos (Vídeo):** A Faculdade CENSUPEG oferece um vídeo sobre práticas de mindfulness para acadêmicos, com técnicas simples e eficazes para reduzir o estresse e aumentar a concentração. [Faculdade CENSUPEG] → [https://www.censupeg.com.br/tcc](https://www.censupeg.com.br/tcc)\n>     *   **Mindfulness nos Estudos (Vídeo):** Este vídeo explora a técnica de estudos através do Mindfulness, ensinando como dominar o corpo e a mente, relaxar, manter a atenção plena e estudar no presente. [YouTube] → [https://vertexaisearch.cloud.google.com/grounding-api-redirect/AbF9wXHx8BTFI4Re4AfftwcxSn_vGsshNeQOUH-GMFvax_3tKodgdhOeCfrXs_MKC4B6G2aIJVRZQVmQ-dcTBIWB9jcRPSsWEK84JDldDsEYEOuIePNIGzlSj0Gzb3kx9gs6eXMY5LW4dg==](https://vertexaisearch.cloud.google.com/grounding-api-redirect/AbF9wXHx8BTFI4Re4AfftwcxSn_vGsshNeQOUH-GMFvax_3tKodgdhOeCfrXs_MKC4B6G2aIJVRZQVmQ-dcTBIWB9jcRPSsWEK84JDldDsEYEOuIePNIGzlSj0Gzb3kx9gs6eXMY5LW4dg==)\n> \n> *   **Podcasts:**\n> \n>     *   **Podcasts para Saúde Mental de Vestibulandos (Lista):** O Educa Mais Brasil indica podcasts para ajudar na saúde mental, incluindo \"É nóia minha?\", que aborda ansiedade e procrastinação. [Educa Mais Brasil] → [https://vertexaisearch.cloud.google.com/grounding-api-redirect/AbF9wXFxszQCLOoA0t0MhkP4g2k8_uo5Va_bri5mQ-PADmswHHjFpJDvwgNpYKY14gRA5dqEk5Wsi5CeK7b_gmuDxVuqDllWW24Lrq1mgxmRgctqlWIBmnIC9aQG9baiCM31HK5QpBe6IwOpsO2RxnPRlrhY_tzrFrlb5BY4fxMOgQx1CFFEle2dcC85eC3tC7NtD_696dcxyVXi5OmDIOONyXbsMaoLe79KOswqZIyMXoMU7w==](https://vertexaisearch.cloud.google.com/grounding-api-redirect/AbF9wXFxszQCLOoA0t0MhkP4g2k8_uo5Va_bri5mQ-PADmswHHjFpJDvwgNpYKY14gRA5dqEk5Wsi5CeK7b_gmuDxVuqDllWW24Lrq1mgxmRgctqlWIBmnIC9aQG9baiCM31HK5QpBe6IwOpsO2RxnPRlrhY_tzrFrlb5BY4fxMOgQx1CFFEle2dcC85eC3tC7NtD_696dcxyVXi5OmDIOONyXbsMaoLe79KOswqZIyMXoMU7w==)\n>     *   **Podcasts sobre Adolescência, Escola e Saúde Mental (Lista):** A Gama Revista lista podcasts sobre saúde mental, incluindo um episódio sobre como acolher alunos com ansiedade e depressão. [Gama Revista] → [https://vertexaisearch.cloud.google.com/grounding-api-redirect/AbF9wXGJsEjV6EgkuWJJq002Fo56MyrhSkDR1hfPaqBc9JnxqojIt3fKtTrPOXFZMfSF72uhbyu0ILw6OgMsLbRkAPAB1N2lzfJESBdrHxN3Ju_hi9UHx6jeQ2TnmoPGHfO-kFYebEJwsMYJ4k3-LU1KgIMsNuTbhFpMDZJ_XsJAVtK14-3dnrQWqlTQcy3oKLtQuj_MsNK_YYnvIOt6kk-ZgQo=](https://vertexaisearch.cloud.google.com/grounding-api-redirect/AbF9wXGJsEjV6EgkuWJJq002Fo56MyrhSkDR1hfPaqBc9JnxqojIt3fKtTrPOXFZMfSF72uhbyu0ILw6OgMsLbRkAPAB1N2lzfJESBdrHxN3Ju_hi9UHx6jeQ2TnmoPGHfO-kFYebEJwsMYJ4k3-LU1KgIMsNuTbhFpMDZJ_XsJAVtK14-3dnrQWqlTQcy3oKLtQuj_MsNK_YYnvIOt6kk-ZgQo=)\n> \n> *   **Dicas Gerais:**\n> \n>     *   **Técnicas de Relaxamento para Estudantes (Artigo):** O Blog Grupo Integrado apresenta técnicas de relaxamento para estudantes, incluindo respiração profunda e alongamento. [Blog Grupo Integrado] → [https://vertexaisearch.cloud.google.com/grounding-api-redirect/AbF9wXFjxrP9k4HDB8ntvu_38JS1gfNP-yF7PJvWAdFw9o9r_t3qT-oRTZjZyCvLKdGruirouDtDQA4zKbqphl7ei5m2-hO4OIx5ICyqmQEMB6l6FQc4Wdjt2pzsCmKOtCXsw7mYy1mUWiQwRH4wkKN_oQ2-v52oeLphxw0IzjqGV2owrnw=](https://vertexaisearch.cloud.google.com/grounding-api-redirect/AbF9wXFjxrP9k4HDB8ntvu_38JS1gfNP-yF7PJvWAdFw9o9r_t3qT-oRTZjZyCvLKdGruirouDtDQA4zKbqphl7ei5m2-hO4OIx5ICyqmQEMB6l6FQc4Wdjt2pzsCmKOtCXsw7mYy1mUWiQwRH4wkKN_oQ2-v52oeLphxw0IzjqGV2owrnw=)\n>     *   **Como Lidar com a Ansiedade Pré-Prova (Artigo):** A UNE explora técnicas de relaxamento e estratégias para controlar a ansiedade pré-prova, como exercícios físicos e respiração profunda. [UNE] → [https://vertexaisearch.cloud.google.com/grounding-api-redirect/AbF9wXGOu-b0jhKGp60fFsqDNEZHF3S7yEq3UkQpNjMvAGTQ-YGgT5m83JC544N8CpGcIk-iumsctsa3PA5s1_JBTQbWqbilla9vie36JLG57L6jog9kp_72pAK3C9XICf1dAPj3ir6fGbDihuzUt9OaIms-XCucxqU2_AU675kctUW_wWx4x8tRXEX2Cme7g8iiFqrenqiiMN4=](https://vertexaisearch.cloud.google.com/grounding-api-redirect/AbF9wXGOu-b0jhKGp60fFsqDNEZHF3S7yEq3UkQpNjMvAGTQ-YGgT5m83JC544N8CpGcIk-iumsctsa3PA5s1_JBTQbWqbilla9vie36JLG57L6jog9kp_72pAK3C9XICf1dAPj3ir6fGbDihuzUt9OaIms-XCucxqU2_AU675kctUW_wWx4x8tRXEX2Cme7g8iiFqrenqiiMN4=)\n> \n> Lembre-se que a preparação adequada e o autocuidado são essenciais para reduzir a ansiedade e melhorar o desempenho nos estudos e nas provas.\n> \n"
          },
          "metadata": {}
        }
      ]
    }
  ]
}